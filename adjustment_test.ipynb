{
 "cells": [
  {
   "cell_type": "code",
   "execution_count": 1,
   "id": "03e5cba9-7812-453b-ad18-49cb6a60e2d1",
   "metadata": {},
   "outputs": [],
   "source": [
    "import json\n",
    "import requests"
   ]
  },
  {
   "cell_type": "code",
   "execution_count": 6,
   "id": "8671b12b-9718-465d-ba58-94f08e3463f2",
   "metadata": {},
   "outputs": [],
   "source": [
    "# Porijõgi station code\n",
    "station_code = 'SJA3124000'"
   ]
  },
  {
   "cell_type": "code",
   "execution_count": 7,
   "id": "fd7156be-c1a1-4e2a-9ac6-6d4cabe6b10f",
   "metadata": {},
   "outputs": [],
   "source": [
    "# Read JSON file and get a list with a single dictionary\n",
    "with open('data/estmodel20211101100645.json', encoding='utf-8') as file:\n",
    "    data = json.load(file)"
   ]
  },
  {
   "cell_type": "code",
   "execution_count": 3,
   "id": "0e68a366-d7b9-464c-afd4-65cf5ef5c394",
   "metadata": {},
   "outputs": [],
   "source": [
    "# POST request using the JSON data\n",
    "r = requests.post('https://estmodel.envir.ee/', json=data[0])"
   ]
  },
  {
   "cell_type": "code",
   "execution_count": 4,
   "id": "0eac6eb9-a6b5-48dd-a31a-8d52b1757a43",
   "metadata": {},
   "outputs": [
    {
     "data": {
      "text/plain": [
       "200"
      ]
     },
     "execution_count": 4,
     "metadata": {},
     "output_type": "execute_result"
    }
   ],
   "source": [
    "r.status_code"
   ]
  },
  {
   "cell_type": "code",
   "execution_count": 9,
   "id": "467bfb9a-0211-4be9-8f57-ab97aa2fdb35",
   "metadata": {},
   "outputs": [],
   "source": [
    "# Test writing a JSON string to file\n",
    "with open('data/{}_response.json'.format(station_code), 'w', encoding='utf-8') as file:\n",
    "    json_string = json.dumps(r.json(), ensure_ascii=False, indent=4)\n",
    "    print(json_string, file=file)\n",
    "    file.close()"
   ]
  },
  {
   "cell_type": "code",
   "execution_count": 10,
   "id": "4c965622-ed5e-4491-9e2f-ca6540630eb2",
   "metadata": {},
   "outputs": [],
   "source": [
    "# def get_site_code(catchment):\n",
    "#     site_code = catchment.get('code')\n",
    "#     return site_code"
   ]
  },
  {
   "cell_type": "code",
   "execution_count": 11,
   "id": "9b4042ec-e151-48e9-8c55-d27f73aefa62",
   "metadata": {},
   "outputs": [],
   "source": [
    "# def get_subcatchments(catchment):\n",
    "#     subcatchments = catchment['subcatchments']\n",
    "#     return subcatchments"
   ]
  },
  {
   "cell_type": "markdown",
   "id": "b4a87d95-ecb2-4de8-902d-836de00e4391",
   "metadata": {},
   "source": [
    "Tried creating a function for recursively looking through the JSON object and getting to where the Porijõgi station data is located at. The info is hidden somewhere inside a nested structure of dictionaries and lists, so to make the procedure more robust and usable regardless of the level of the station there needs to be ways to switch the search target between a dictionary and list."
   ]
  },
  {
   "cell_type": "code",
   "execution_count": 47,
   "id": "690182f0-916d-4508-8a90-b7d4ea012bd2",
   "metadata": {},
   "outputs": [],
   "source": [
    "def extract_json(json_object, station_code):\n",
    "    if isinstance(json_object, dict) and json_object:\n",
    "        for k, v in json_object.items():\n",
    "            if json_object.get('code') == station_code:\n",
    "                print('Station name: {}'.format(json_object['name']))\n",
    "                print('Station code: {}'.format(station_code))\n",
    "                factor_dict = json_object['adjustments'][0]\n",
    "                print('Adjustment factor for parameter {}: {}'.format(factor_dict.get('parameter').upper(), factor_dict.get('factor')))\n",
    "                for i in range(len(json_object['diffuseSources'])):\n",
    "                    if json_object['diffuseSources'][i]['type'] in ['arableland', 'forest', 'pasture', 'water']:\n",
    "                        print(json_object['diffuseSources'][i]['type'])\n",
    "                        print(json_object['diffuseSources'][i]['estimates'])\n",
    "                print('\\n')\n",
    "            else:\n",
    "                extract_json(v, station_code)\n",
    "    elif isinstance(json_object, list) and json_object:\n",
    "        for item in json_object:\n",
    "            extract_json(item, station_code)"
   ]
  },
  {
   "cell_type": "markdown",
   "id": "b58dd3d7-db43-44a0-8514-2c50b688cc89",
   "metadata": {},
   "source": [
    "Currently the function prints out the estimates of the model per LULC type 14 times, so obviously something is wrong with the loop. However, extracting the estimates for atmospheric deposition, etc from these should not be too difficult. The estimates could be written into a CSV file or something like that.\n",
    "\n",
    "The more difficult part is writing the new adjustment factor into a JSON file in the correct position, save that as a new JSON or simply a dictionary in memory and submit it as a POST request."
   ]
  },
  {
   "cell_type": "code",
   "execution_count": 48,
   "id": "fa35fb47-9ef7-4c58-b788-e37f3642d573",
   "metadata": {},
   "outputs": [
    {
     "name": "stdout",
     "output_type": "stream",
     "text": [
      "Station name: Porijõgi: Reola – Vana-Kuuste tee (Uhti)\n",
      "Station code: SJA3124000\n",
      "Adjustment factor for parameter TN: 1.1\n",
      "arableland\n",
      "[{'parameter': 'tn', 'anthropogenicDischarge': 42731.630588040345, 'atmosphericDeposition': 14.332421164742346, 'naturalDischarge': 15622.057741145984, 'retention': 31584.456203186222}, {'parameter': 'tp', 'anthropogenicDischarge': 556.7871198095736, 'atmosphericDeposition': 0.26900207582870955, 'naturalDischarge': 566.8748051564348, 'retention': 574.9934756244065}]\n",
      "pasture\n",
      "[{'parameter': 'tn', 'anthropogenicDischarge': 0, 'atmosphericDeposition': 1.102500853767894, 'naturalDischarge': 1201.7042898232755, 'retention': 650.8700811275247}, {'parameter': 'tp', 'anthropogenicDischarge': 0, 'atmosphericDeposition': 0.02069259721421392, 'naturalDischarge': 43.606027863730674, 'retention': 22.31905807054934}]\n",
      "forest\n",
      "[{'parameter': 'tn', 'anthropogenicDischarge': 0, 'atmosphericDeposition': 13.311040995705788, 'naturalDischarge': 14508.773405377067, 'retention': 7858.2781166632885}, {'parameter': 'tp', 'anthropogenicDischarge': 0, 'atmosphericDeposition': 0.24983201499090754, 'naturalDischarge': 526.4772562944486, 'retention': 269.46908562228265}]\n",
      "water\n",
      "[{'parameter': 'tn', 'anthropogenicDischarge': 0, 'atmosphericDeposition': 284.7417974155529, 'naturalDischarge': 0, 'retention': 154.08120258444708}, {'parameter': 'tp', 'anthropogenicDischarge': 0, 'atmosphericDeposition': 5.344256472758948, 'naturalDischarge': 0, 'retention': 2.7340760272410525}]\n",
      "\n",
      "\n",
      "Station name: Porijõgi: Reola – Vana-Kuuste tee (Uhti)\n",
      "Station code: SJA3124000\n",
      "Adjustment factor for parameter TN: 1.1\n",
      "arableland\n",
      "[{'parameter': 'tn', 'anthropogenicDischarge': 42731.630588040345, 'atmosphericDeposition': 14.332421164742346, 'naturalDischarge': 15622.057741145984, 'retention': 31584.456203186222}, {'parameter': 'tp', 'anthropogenicDischarge': 556.7871198095736, 'atmosphericDeposition': 0.26900207582870955, 'naturalDischarge': 566.8748051564348, 'retention': 574.9934756244065}]\n",
      "pasture\n",
      "[{'parameter': 'tn', 'anthropogenicDischarge': 0, 'atmosphericDeposition': 1.102500853767894, 'naturalDischarge': 1201.7042898232755, 'retention': 650.8700811275247}, {'parameter': 'tp', 'anthropogenicDischarge': 0, 'atmosphericDeposition': 0.02069259721421392, 'naturalDischarge': 43.606027863730674, 'retention': 22.31905807054934}]\n",
      "forest\n",
      "[{'parameter': 'tn', 'anthropogenicDischarge': 0, 'atmosphericDeposition': 13.311040995705788, 'naturalDischarge': 14508.773405377067, 'retention': 7858.2781166632885}, {'parameter': 'tp', 'anthropogenicDischarge': 0, 'atmosphericDeposition': 0.24983201499090754, 'naturalDischarge': 526.4772562944486, 'retention': 269.46908562228265}]\n",
      "water\n",
      "[{'parameter': 'tn', 'anthropogenicDischarge': 0, 'atmosphericDeposition': 284.7417974155529, 'naturalDischarge': 0, 'retention': 154.08120258444708}, {'parameter': 'tp', 'anthropogenicDischarge': 0, 'atmosphericDeposition': 5.344256472758948, 'naturalDischarge': 0, 'retention': 2.7340760272410525}]\n",
      "\n",
      "\n",
      "Station name: Porijõgi: Reola – Vana-Kuuste tee (Uhti)\n",
      "Station code: SJA3124000\n",
      "Adjustment factor for parameter TN: 1.1\n",
      "arableland\n",
      "[{'parameter': 'tn', 'anthropogenicDischarge': 42731.630588040345, 'atmosphericDeposition': 14.332421164742346, 'naturalDischarge': 15622.057741145984, 'retention': 31584.456203186222}, {'parameter': 'tp', 'anthropogenicDischarge': 556.7871198095736, 'atmosphericDeposition': 0.26900207582870955, 'naturalDischarge': 566.8748051564348, 'retention': 574.9934756244065}]\n",
      "pasture\n",
      "[{'parameter': 'tn', 'anthropogenicDischarge': 0, 'atmosphericDeposition': 1.102500853767894, 'naturalDischarge': 1201.7042898232755, 'retention': 650.8700811275247}, {'parameter': 'tp', 'anthropogenicDischarge': 0, 'atmosphericDeposition': 0.02069259721421392, 'naturalDischarge': 43.606027863730674, 'retention': 22.31905807054934}]\n",
      "forest\n",
      "[{'parameter': 'tn', 'anthropogenicDischarge': 0, 'atmosphericDeposition': 13.311040995705788, 'naturalDischarge': 14508.773405377067, 'retention': 7858.2781166632885}, {'parameter': 'tp', 'anthropogenicDischarge': 0, 'atmosphericDeposition': 0.24983201499090754, 'naturalDischarge': 526.4772562944486, 'retention': 269.46908562228265}]\n",
      "water\n",
      "[{'parameter': 'tn', 'anthropogenicDischarge': 0, 'atmosphericDeposition': 284.7417974155529, 'naturalDischarge': 0, 'retention': 154.08120258444708}, {'parameter': 'tp', 'anthropogenicDischarge': 0, 'atmosphericDeposition': 5.344256472758948, 'naturalDischarge': 0, 'retention': 2.7340760272410525}]\n",
      "\n",
      "\n",
      "Station name: Porijõgi: Reola – Vana-Kuuste tee (Uhti)\n",
      "Station code: SJA3124000\n",
      "Adjustment factor for parameter TN: 1.1\n",
      "arableland\n",
      "[{'parameter': 'tn', 'anthropogenicDischarge': 42731.630588040345, 'atmosphericDeposition': 14.332421164742346, 'naturalDischarge': 15622.057741145984, 'retention': 31584.456203186222}, {'parameter': 'tp', 'anthropogenicDischarge': 556.7871198095736, 'atmosphericDeposition': 0.26900207582870955, 'naturalDischarge': 566.8748051564348, 'retention': 574.9934756244065}]\n",
      "pasture\n",
      "[{'parameter': 'tn', 'anthropogenicDischarge': 0, 'atmosphericDeposition': 1.102500853767894, 'naturalDischarge': 1201.7042898232755, 'retention': 650.8700811275247}, {'parameter': 'tp', 'anthropogenicDischarge': 0, 'atmosphericDeposition': 0.02069259721421392, 'naturalDischarge': 43.606027863730674, 'retention': 22.31905807054934}]\n",
      "forest\n",
      "[{'parameter': 'tn', 'anthropogenicDischarge': 0, 'atmosphericDeposition': 13.311040995705788, 'naturalDischarge': 14508.773405377067, 'retention': 7858.2781166632885}, {'parameter': 'tp', 'anthropogenicDischarge': 0, 'atmosphericDeposition': 0.24983201499090754, 'naturalDischarge': 526.4772562944486, 'retention': 269.46908562228265}]\n",
      "water\n",
      "[{'parameter': 'tn', 'anthropogenicDischarge': 0, 'atmosphericDeposition': 284.7417974155529, 'naturalDischarge': 0, 'retention': 154.08120258444708}, {'parameter': 'tp', 'anthropogenicDischarge': 0, 'atmosphericDeposition': 5.344256472758948, 'naturalDischarge': 0, 'retention': 2.7340760272410525}]\n",
      "\n",
      "\n",
      "Station name: Porijõgi: Reola – Vana-Kuuste tee (Uhti)\n",
      "Station code: SJA3124000\n",
      "Adjustment factor for parameter TN: 1.1\n",
      "arableland\n",
      "[{'parameter': 'tn', 'anthropogenicDischarge': 42731.630588040345, 'atmosphericDeposition': 14.332421164742346, 'naturalDischarge': 15622.057741145984, 'retention': 31584.456203186222}, {'parameter': 'tp', 'anthropogenicDischarge': 556.7871198095736, 'atmosphericDeposition': 0.26900207582870955, 'naturalDischarge': 566.8748051564348, 'retention': 574.9934756244065}]\n",
      "pasture\n",
      "[{'parameter': 'tn', 'anthropogenicDischarge': 0, 'atmosphericDeposition': 1.102500853767894, 'naturalDischarge': 1201.7042898232755, 'retention': 650.8700811275247}, {'parameter': 'tp', 'anthropogenicDischarge': 0, 'atmosphericDeposition': 0.02069259721421392, 'naturalDischarge': 43.606027863730674, 'retention': 22.31905807054934}]\n",
      "forest\n",
      "[{'parameter': 'tn', 'anthropogenicDischarge': 0, 'atmosphericDeposition': 13.311040995705788, 'naturalDischarge': 14508.773405377067, 'retention': 7858.2781166632885}, {'parameter': 'tp', 'anthropogenicDischarge': 0, 'atmosphericDeposition': 0.24983201499090754, 'naturalDischarge': 526.4772562944486, 'retention': 269.46908562228265}]\n",
      "water\n",
      "[{'parameter': 'tn', 'anthropogenicDischarge': 0, 'atmosphericDeposition': 284.7417974155529, 'naturalDischarge': 0, 'retention': 154.08120258444708}, {'parameter': 'tp', 'anthropogenicDischarge': 0, 'atmosphericDeposition': 5.344256472758948, 'naturalDischarge': 0, 'retention': 2.7340760272410525}]\n",
      "\n",
      "\n",
      "Station name: Porijõgi: Reola – Vana-Kuuste tee (Uhti)\n",
      "Station code: SJA3124000\n",
      "Adjustment factor for parameter TN: 1.1\n",
      "arableland\n",
      "[{'parameter': 'tn', 'anthropogenicDischarge': 42731.630588040345, 'atmosphericDeposition': 14.332421164742346, 'naturalDischarge': 15622.057741145984, 'retention': 31584.456203186222}, {'parameter': 'tp', 'anthropogenicDischarge': 556.7871198095736, 'atmosphericDeposition': 0.26900207582870955, 'naturalDischarge': 566.8748051564348, 'retention': 574.9934756244065}]\n",
      "pasture\n",
      "[{'parameter': 'tn', 'anthropogenicDischarge': 0, 'atmosphericDeposition': 1.102500853767894, 'naturalDischarge': 1201.7042898232755, 'retention': 650.8700811275247}, {'parameter': 'tp', 'anthropogenicDischarge': 0, 'atmosphericDeposition': 0.02069259721421392, 'naturalDischarge': 43.606027863730674, 'retention': 22.31905807054934}]\n",
      "forest\n",
      "[{'parameter': 'tn', 'anthropogenicDischarge': 0, 'atmosphericDeposition': 13.311040995705788, 'naturalDischarge': 14508.773405377067, 'retention': 7858.2781166632885}, {'parameter': 'tp', 'anthropogenicDischarge': 0, 'atmosphericDeposition': 0.24983201499090754, 'naturalDischarge': 526.4772562944486, 'retention': 269.46908562228265}]\n",
      "water\n",
      "[{'parameter': 'tn', 'anthropogenicDischarge': 0, 'atmosphericDeposition': 284.7417974155529, 'naturalDischarge': 0, 'retention': 154.08120258444708}, {'parameter': 'tp', 'anthropogenicDischarge': 0, 'atmosphericDeposition': 5.344256472758948, 'naturalDischarge': 0, 'retention': 2.7340760272410525}]\n",
      "\n",
      "\n",
      "Station name: Porijõgi: Reola – Vana-Kuuste tee (Uhti)\n",
      "Station code: SJA3124000\n",
      "Adjustment factor for parameter TN: 1.1\n",
      "arableland\n",
      "[{'parameter': 'tn', 'anthropogenicDischarge': 42731.630588040345, 'atmosphericDeposition': 14.332421164742346, 'naturalDischarge': 15622.057741145984, 'retention': 31584.456203186222}, {'parameter': 'tp', 'anthropogenicDischarge': 556.7871198095736, 'atmosphericDeposition': 0.26900207582870955, 'naturalDischarge': 566.8748051564348, 'retention': 574.9934756244065}]\n",
      "pasture\n",
      "[{'parameter': 'tn', 'anthropogenicDischarge': 0, 'atmosphericDeposition': 1.102500853767894, 'naturalDischarge': 1201.7042898232755, 'retention': 650.8700811275247}, {'parameter': 'tp', 'anthropogenicDischarge': 0, 'atmosphericDeposition': 0.02069259721421392, 'naturalDischarge': 43.606027863730674, 'retention': 22.31905807054934}]\n",
      "forest\n",
      "[{'parameter': 'tn', 'anthropogenicDischarge': 0, 'atmosphericDeposition': 13.311040995705788, 'naturalDischarge': 14508.773405377067, 'retention': 7858.2781166632885}, {'parameter': 'tp', 'anthropogenicDischarge': 0, 'atmosphericDeposition': 0.24983201499090754, 'naturalDischarge': 526.4772562944486, 'retention': 269.46908562228265}]\n",
      "water\n",
      "[{'parameter': 'tn', 'anthropogenicDischarge': 0, 'atmosphericDeposition': 284.7417974155529, 'naturalDischarge': 0, 'retention': 154.08120258444708}, {'parameter': 'tp', 'anthropogenicDischarge': 0, 'atmosphericDeposition': 5.344256472758948, 'naturalDischarge': 0, 'retention': 2.7340760272410525}]\n",
      "\n",
      "\n",
      "Station name: Porijõgi: Reola – Vana-Kuuste tee (Uhti)\n",
      "Station code: SJA3124000\n",
      "Adjustment factor for parameter TN: 1.1\n",
      "arableland\n",
      "[{'parameter': 'tn', 'anthropogenicDischarge': 42731.630588040345, 'atmosphericDeposition': 14.332421164742346, 'naturalDischarge': 15622.057741145984, 'retention': 31584.456203186222}, {'parameter': 'tp', 'anthropogenicDischarge': 556.7871198095736, 'atmosphericDeposition': 0.26900207582870955, 'naturalDischarge': 566.8748051564348, 'retention': 574.9934756244065}]\n",
      "pasture\n",
      "[{'parameter': 'tn', 'anthropogenicDischarge': 0, 'atmosphericDeposition': 1.102500853767894, 'naturalDischarge': 1201.7042898232755, 'retention': 650.8700811275247}, {'parameter': 'tp', 'anthropogenicDischarge': 0, 'atmosphericDeposition': 0.02069259721421392, 'naturalDischarge': 43.606027863730674, 'retention': 22.31905807054934}]\n",
      "forest\n",
      "[{'parameter': 'tn', 'anthropogenicDischarge': 0, 'atmosphericDeposition': 13.311040995705788, 'naturalDischarge': 14508.773405377067, 'retention': 7858.2781166632885}, {'parameter': 'tp', 'anthropogenicDischarge': 0, 'atmosphericDeposition': 0.24983201499090754, 'naturalDischarge': 526.4772562944486, 'retention': 269.46908562228265}]\n",
      "water\n",
      "[{'parameter': 'tn', 'anthropogenicDischarge': 0, 'atmosphericDeposition': 284.7417974155529, 'naturalDischarge': 0, 'retention': 154.08120258444708}, {'parameter': 'tp', 'anthropogenicDischarge': 0, 'atmosphericDeposition': 5.344256472758948, 'naturalDischarge': 0, 'retention': 2.7340760272410525}]\n",
      "\n",
      "\n",
      "Station name: Porijõgi: Reola – Vana-Kuuste tee (Uhti)\n",
      "Station code: SJA3124000\n",
      "Adjustment factor for parameter TN: 1.1\n",
      "arableland\n",
      "[{'parameter': 'tn', 'anthropogenicDischarge': 42731.630588040345, 'atmosphericDeposition': 14.332421164742346, 'naturalDischarge': 15622.057741145984, 'retention': 31584.456203186222}, {'parameter': 'tp', 'anthropogenicDischarge': 556.7871198095736, 'atmosphericDeposition': 0.26900207582870955, 'naturalDischarge': 566.8748051564348, 'retention': 574.9934756244065}]\n",
      "pasture\n",
      "[{'parameter': 'tn', 'anthropogenicDischarge': 0, 'atmosphericDeposition': 1.102500853767894, 'naturalDischarge': 1201.7042898232755, 'retention': 650.8700811275247}, {'parameter': 'tp', 'anthropogenicDischarge': 0, 'atmosphericDeposition': 0.02069259721421392, 'naturalDischarge': 43.606027863730674, 'retention': 22.31905807054934}]\n",
      "forest\n",
      "[{'parameter': 'tn', 'anthropogenicDischarge': 0, 'atmosphericDeposition': 13.311040995705788, 'naturalDischarge': 14508.773405377067, 'retention': 7858.2781166632885}, {'parameter': 'tp', 'anthropogenicDischarge': 0, 'atmosphericDeposition': 0.24983201499090754, 'naturalDischarge': 526.4772562944486, 'retention': 269.46908562228265}]\n",
      "water\n",
      "[{'parameter': 'tn', 'anthropogenicDischarge': 0, 'atmosphericDeposition': 284.7417974155529, 'naturalDischarge': 0, 'retention': 154.08120258444708}, {'parameter': 'tp', 'anthropogenicDischarge': 0, 'atmosphericDeposition': 5.344256472758948, 'naturalDischarge': 0, 'retention': 2.7340760272410525}]\n",
      "\n",
      "\n",
      "Station name: Porijõgi: Reola – Vana-Kuuste tee (Uhti)\n",
      "Station code: SJA3124000\n",
      "Adjustment factor for parameter TN: 1.1\n",
      "arableland\n",
      "[{'parameter': 'tn', 'anthropogenicDischarge': 42731.630588040345, 'atmosphericDeposition': 14.332421164742346, 'naturalDischarge': 15622.057741145984, 'retention': 31584.456203186222}, {'parameter': 'tp', 'anthropogenicDischarge': 556.7871198095736, 'atmosphericDeposition': 0.26900207582870955, 'naturalDischarge': 566.8748051564348, 'retention': 574.9934756244065}]\n",
      "pasture\n",
      "[{'parameter': 'tn', 'anthropogenicDischarge': 0, 'atmosphericDeposition': 1.102500853767894, 'naturalDischarge': 1201.7042898232755, 'retention': 650.8700811275247}, {'parameter': 'tp', 'anthropogenicDischarge': 0, 'atmosphericDeposition': 0.02069259721421392, 'naturalDischarge': 43.606027863730674, 'retention': 22.31905807054934}]\n",
      "forest\n",
      "[{'parameter': 'tn', 'anthropogenicDischarge': 0, 'atmosphericDeposition': 13.311040995705788, 'naturalDischarge': 14508.773405377067, 'retention': 7858.2781166632885}, {'parameter': 'tp', 'anthropogenicDischarge': 0, 'atmosphericDeposition': 0.24983201499090754, 'naturalDischarge': 526.4772562944486, 'retention': 269.46908562228265}]\n",
      "water\n",
      "[{'parameter': 'tn', 'anthropogenicDischarge': 0, 'atmosphericDeposition': 284.7417974155529, 'naturalDischarge': 0, 'retention': 154.08120258444708}, {'parameter': 'tp', 'anthropogenicDischarge': 0, 'atmosphericDeposition': 5.344256472758948, 'naturalDischarge': 0, 'retention': 2.7340760272410525}]\n",
      "\n",
      "\n",
      "Station name: Porijõgi: Reola – Vana-Kuuste tee (Uhti)\n",
      "Station code: SJA3124000\n",
      "Adjustment factor for parameter TN: 1.1\n",
      "arableland\n",
      "[{'parameter': 'tn', 'anthropogenicDischarge': 42731.630588040345, 'atmosphericDeposition': 14.332421164742346, 'naturalDischarge': 15622.057741145984, 'retention': 31584.456203186222}, {'parameter': 'tp', 'anthropogenicDischarge': 556.7871198095736, 'atmosphericDeposition': 0.26900207582870955, 'naturalDischarge': 566.8748051564348, 'retention': 574.9934756244065}]\n",
      "pasture\n",
      "[{'parameter': 'tn', 'anthropogenicDischarge': 0, 'atmosphericDeposition': 1.102500853767894, 'naturalDischarge': 1201.7042898232755, 'retention': 650.8700811275247}, {'parameter': 'tp', 'anthropogenicDischarge': 0, 'atmosphericDeposition': 0.02069259721421392, 'naturalDischarge': 43.606027863730674, 'retention': 22.31905807054934}]\n",
      "forest\n",
      "[{'parameter': 'tn', 'anthropogenicDischarge': 0, 'atmosphericDeposition': 13.311040995705788, 'naturalDischarge': 14508.773405377067, 'retention': 7858.2781166632885}, {'parameter': 'tp', 'anthropogenicDischarge': 0, 'atmosphericDeposition': 0.24983201499090754, 'naturalDischarge': 526.4772562944486, 'retention': 269.46908562228265}]\n",
      "water\n",
      "[{'parameter': 'tn', 'anthropogenicDischarge': 0, 'atmosphericDeposition': 284.7417974155529, 'naturalDischarge': 0, 'retention': 154.08120258444708}, {'parameter': 'tp', 'anthropogenicDischarge': 0, 'atmosphericDeposition': 5.344256472758948, 'naturalDischarge': 0, 'retention': 2.7340760272410525}]\n",
      "\n",
      "\n",
      "Station name: Porijõgi: Reola – Vana-Kuuste tee (Uhti)\n",
      "Station code: SJA3124000\n",
      "Adjustment factor for parameter TN: 1.1\n",
      "arableland\n",
      "[{'parameter': 'tn', 'anthropogenicDischarge': 42731.630588040345, 'atmosphericDeposition': 14.332421164742346, 'naturalDischarge': 15622.057741145984, 'retention': 31584.456203186222}, {'parameter': 'tp', 'anthropogenicDischarge': 556.7871198095736, 'atmosphericDeposition': 0.26900207582870955, 'naturalDischarge': 566.8748051564348, 'retention': 574.9934756244065}]\n",
      "pasture\n",
      "[{'parameter': 'tn', 'anthropogenicDischarge': 0, 'atmosphericDeposition': 1.102500853767894, 'naturalDischarge': 1201.7042898232755, 'retention': 650.8700811275247}, {'parameter': 'tp', 'anthropogenicDischarge': 0, 'atmosphericDeposition': 0.02069259721421392, 'naturalDischarge': 43.606027863730674, 'retention': 22.31905807054934}]\n",
      "forest\n",
      "[{'parameter': 'tn', 'anthropogenicDischarge': 0, 'atmosphericDeposition': 13.311040995705788, 'naturalDischarge': 14508.773405377067, 'retention': 7858.2781166632885}, {'parameter': 'tp', 'anthropogenicDischarge': 0, 'atmosphericDeposition': 0.24983201499090754, 'naturalDischarge': 526.4772562944486, 'retention': 269.46908562228265}]\n",
      "water\n",
      "[{'parameter': 'tn', 'anthropogenicDischarge': 0, 'atmosphericDeposition': 284.7417974155529, 'naturalDischarge': 0, 'retention': 154.08120258444708}, {'parameter': 'tp', 'anthropogenicDischarge': 0, 'atmosphericDeposition': 5.344256472758948, 'naturalDischarge': 0, 'retention': 2.7340760272410525}]\n",
      "\n",
      "\n",
      "Station name: Porijõgi: Reola – Vana-Kuuste tee (Uhti)\n",
      "Station code: SJA3124000\n",
      "Adjustment factor for parameter TN: 1.1\n",
      "arableland\n",
      "[{'parameter': 'tn', 'anthropogenicDischarge': 42731.630588040345, 'atmosphericDeposition': 14.332421164742346, 'naturalDischarge': 15622.057741145984, 'retention': 31584.456203186222}, {'parameter': 'tp', 'anthropogenicDischarge': 556.7871198095736, 'atmosphericDeposition': 0.26900207582870955, 'naturalDischarge': 566.8748051564348, 'retention': 574.9934756244065}]\n",
      "pasture\n",
      "[{'parameter': 'tn', 'anthropogenicDischarge': 0, 'atmosphericDeposition': 1.102500853767894, 'naturalDischarge': 1201.7042898232755, 'retention': 650.8700811275247}, {'parameter': 'tp', 'anthropogenicDischarge': 0, 'atmosphericDeposition': 0.02069259721421392, 'naturalDischarge': 43.606027863730674, 'retention': 22.31905807054934}]\n",
      "forest\n",
      "[{'parameter': 'tn', 'anthropogenicDischarge': 0, 'atmosphericDeposition': 13.311040995705788, 'naturalDischarge': 14508.773405377067, 'retention': 7858.2781166632885}, {'parameter': 'tp', 'anthropogenicDischarge': 0, 'atmosphericDeposition': 0.24983201499090754, 'naturalDischarge': 526.4772562944486, 'retention': 269.46908562228265}]\n",
      "water\n",
      "[{'parameter': 'tn', 'anthropogenicDischarge': 0, 'atmosphericDeposition': 284.7417974155529, 'naturalDischarge': 0, 'retention': 154.08120258444708}, {'parameter': 'tp', 'anthropogenicDischarge': 0, 'atmosphericDeposition': 5.344256472758948, 'naturalDischarge': 0, 'retention': 2.7340760272410525}]\n",
      "\n",
      "\n",
      "Station name: Porijõgi: Reola – Vana-Kuuste tee (Uhti)\n",
      "Station code: SJA3124000\n",
      "Adjustment factor for parameter TN: 1.1\n",
      "arableland\n",
      "[{'parameter': 'tn', 'anthropogenicDischarge': 42731.630588040345, 'atmosphericDeposition': 14.332421164742346, 'naturalDischarge': 15622.057741145984, 'retention': 31584.456203186222}, {'parameter': 'tp', 'anthropogenicDischarge': 556.7871198095736, 'atmosphericDeposition': 0.26900207582870955, 'naturalDischarge': 566.8748051564348, 'retention': 574.9934756244065}]\n",
      "pasture\n",
      "[{'parameter': 'tn', 'anthropogenicDischarge': 0, 'atmosphericDeposition': 1.102500853767894, 'naturalDischarge': 1201.7042898232755, 'retention': 650.8700811275247}, {'parameter': 'tp', 'anthropogenicDischarge': 0, 'atmosphericDeposition': 0.02069259721421392, 'naturalDischarge': 43.606027863730674, 'retention': 22.31905807054934}]\n",
      "forest\n",
      "[{'parameter': 'tn', 'anthropogenicDischarge': 0, 'atmosphericDeposition': 13.311040995705788, 'naturalDischarge': 14508.773405377067, 'retention': 7858.2781166632885}, {'parameter': 'tp', 'anthropogenicDischarge': 0, 'atmosphericDeposition': 0.24983201499090754, 'naturalDischarge': 526.4772562944486, 'retention': 269.46908562228265}]\n",
      "water\n",
      "[{'parameter': 'tn', 'anthropogenicDischarge': 0, 'atmosphericDeposition': 284.7417974155529, 'naturalDischarge': 0, 'retention': 154.08120258444708}, {'parameter': 'tp', 'anthropogenicDischarge': 0, 'atmosphericDeposition': 5.344256472758948, 'naturalDischarge': 0, 'retention': 2.7340760272410525}]\n",
      "\n",
      "\n"
     ]
    }
   ],
   "source": [
    "with open('data/estmodel20211101120617.json', encoding='utf-8') as file:\n",
    "    data = json.load(file)\n",
    "    extract_json(data, station_code)"
   ]
  }
 ],
 "metadata": {
  "kernelspec": {
   "display_name": "estmodel_test",
   "language": "python",
   "name": "estmodel_test"
  },
  "language_info": {
   "codemirror_mode": {
    "name": "ipython",
    "version": 3
   },
   "file_extension": ".py",
   "mimetype": "text/x-python",
   "name": "python",
   "nbconvert_exporter": "python",
   "pygments_lexer": "ipython3",
   "version": "3.9.7"
  }
 },
 "nbformat": 4,
 "nbformat_minor": 5
}
