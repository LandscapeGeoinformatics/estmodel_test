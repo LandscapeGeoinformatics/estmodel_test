{
 "cells": [
  {
   "cell_type": "code",
   "execution_count": 5,
   "id": "03e5cba9-7812-453b-ad18-49cb6a60e2d1",
   "metadata": {},
   "outputs": [],
   "source": [
    "import json\n",
    "import requests"
   ]
  },
  {
   "cell_type": "code",
   "execution_count": 6,
   "id": "8671b12b-9718-465d-ba58-94f08e3463f2",
   "metadata": {},
   "outputs": [],
   "source": [
    "# Porijõgi station code\n",
    "station_code = 'SJA3124000'"
   ]
  },
  {
   "cell_type": "code",
   "execution_count": 3,
   "id": "fd7156be-c1a1-4e2a-9ac6-6d4cabe6b10f",
   "metadata": {},
   "outputs": [],
   "source": [
    "# Read JSON file and get a list with a single dictionary\n",
    "with open('data/estmodel20211101100645.json', encoding='utf-8') as file:\n",
    "    data = json.load(file)"
   ]
  },
  {
   "cell_type": "code",
   "execution_count": 3,
   "id": "0e68a366-d7b9-464c-afd4-65cf5ef5c394",
   "metadata": {},
   "outputs": [],
   "source": [
    "# POST request using the JSON data\n",
    "r = requests.post('https://estmodel.envir.ee/', json=data[0])"
   ]
  },
  {
   "cell_type": "code",
   "execution_count": 4,
   "id": "0eac6eb9-a6b5-48dd-a31a-8d52b1757a43",
   "metadata": {},
   "outputs": [
    {
     "data": {
      "text/plain": [
       "200"
      ]
     },
     "execution_count": 4,
     "metadata": {},
     "output_type": "execute_result"
    }
   ],
   "source": [
    "r.status_code"
   ]
  },
  {
   "cell_type": "code",
   "execution_count": 9,
   "id": "467bfb9a-0211-4be9-8f57-ab97aa2fdb35",
   "metadata": {},
   "outputs": [],
   "source": [
    "# Test writing a JSON string to file\n",
    "with open('data/{}_response.json'.format(station_code), 'w', encoding='utf-8') as file:\n",
    "    json_string = json.dumps(r.json(), ensure_ascii=False, indent=4)\n",
    "    print(json_string, file=file)\n",
    "    file.close()"
   ]
  },
  {
   "cell_type": "markdown",
   "id": "b4a87d95-ecb2-4de8-902d-836de00e4391",
   "metadata": {},
   "source": [
    "Tried creating a function for recursively looking through the JSON object and getting to where the Porijõgi station data is located at. The info is hidden somewhere inside a nested structure of dictionaries and lists, so to make the procedure more robust and usable regardless of the level of the station there needs to be ways to switch the search target between a dictionary and list."
   ]
  },
  {
   "cell_type": "code",
   "execution_count": 97,
   "id": "690182f0-916d-4508-8a90-b7d4ea012bd2",
   "metadata": {},
   "outputs": [],
   "source": [
    "# def extract_json(json_object, station_code):\n",
    "#     if isinstance(json_object, dict) and json_object:\n",
    "#         for k, v in json_object.items():\n",
    "#             if json_object.get('code') == station_code:\n",
    "#                 print('Station name: {}'.format(json_object['name']))\n",
    "#                 print('Station code: {}'.format(station_code))\n",
    "#                 factor_dict = json_object['adjustments'][0]\n",
    "#                 print('Adjustment factor for parameter {}: {}'.format(factor_dict.get('parameter').upper(), factor_dict.get('factor')))\n",
    "#                 for i in range(len(json_object['diffuseSources'])):\n",
    "#                     if json_object['diffuseSources'][i]['type'] in ['arableland', 'forest', 'pasture', 'water']:\n",
    "#                         print(json_object['diffuseSources'][i]['type'])\n",
    "#                         print(json_object['diffuseSources'][i]['estimates'])\n",
    "#                 print('\\n')\n",
    "#             else:\n",
    "#                 extract_json(v, station_code)\n",
    "#     elif isinstance(json_object, list) and json_object:\n",
    "#         for item in json_object:\n",
    "#             extract_json(item, station_code)"
   ]
  },
  {
   "cell_type": "markdown",
   "id": "b58dd3d7-db43-44a0-8514-2c50b688cc89",
   "metadata": {},
   "source": [
    "Currently the function prints out the estimates of the model per LULC type 14 times, so obviously something is wrong with the loop. However, extracting the estimates for atmospheric deposition, etc from these should not be too difficult. The estimates could be written into a CSV file or something like that.\n",
    "\n",
    "The more difficult part is writing the new adjustment factor into a JSON file in the correct position, save that as a new JSON or simply a dictionary in memory and submit it as a POST request."
   ]
  },
  {
   "cell_type": "markdown",
   "id": "4f1d6d43-b580-4b83-8bc4-93a85f459ed3",
   "metadata": {},
   "source": [
    "Test updating the adjustment factor of JSON file and saving as a new file."
   ]
  },
  {
   "cell_type": "code",
   "execution_count": 36,
   "id": "876aae4d-2ae8-43b2-a12f-705b5ac87d3d",
   "metadata": {},
   "outputs": [],
   "source": [
    "with open('data/estmodel20211102072608.json', encoding='utf-8') as file:\n",
    "    data = json.load(file)"
   ]
  },
  {
   "cell_type": "code",
   "execution_count": 94,
   "id": "d5f4653f-67b8-4528-aae5-edd43a98b947",
   "metadata": {},
   "outputs": [],
   "source": [
    "# Get adjustments for station\n",
    "def get_adjustments(data, station_code):\n",
    "    if isinstance(data, dict):\n",
    "        for k, v in data.items():\n",
    "            if k == 'code' and 'year' not in data.keys():\n",
    "                if v == station_code:\n",
    "                    adjustments = data.get('adjustments')\n",
    "                    print(adjustments)\n",
    "            else:\n",
    "                get_adjustments(v, station_code)\n",
    "    elif isinstance(data, list):\n",
    "        for i in range(len(data)):\n",
    "            get_adjustments(data[i], station_code)"
   ]
  },
  {
   "cell_type": "code",
   "execution_count": 95,
   "id": "354e6cb1-dffe-4301-bc39-ca48fd489074",
   "metadata": {},
   "outputs": [],
   "source": [
    "# Get diffuse sources for station\n",
    "def get_diffuse_sources(data, station_code):\n",
    "    if isinstance(data, dict):\n",
    "        for k, v in data.items():\n",
    "            if k == 'code' and 'year' not in data.keys():\n",
    "                if v == station_code:\n",
    "                    diffuse_sources = data.get('diffuseSources')\n",
    "                    print(diffuse_sources)\n",
    "            else:\n",
    "                get_diffuse_sources(v, station_code)\n",
    "    elif isinstance(data, list):\n",
    "        for i in range(len(data)):\n",
    "            get_diffuse_sources(data[i], station_code)"
   ]
  },
  {
   "cell_type": "code",
   "execution_count": 96,
   "id": "88a80f62-c580-419f-8379-d28530115483",
   "metadata": {},
   "outputs": [
    {
     "name": "stdout",
     "output_type": "stream",
     "text": [
      "[{'parameter': 'tn', 'factor': 1.1}, {'parameter': 'tp', 'factor': 0.9}]\n"
     ]
    }
   ],
   "source": [
    "get_adjustments(data, station_code)"
   ]
  },
  {
   "cell_type": "code",
   "execution_count": 93,
   "id": "5ce1f9bf-3749-4c7e-ab03-6b3516085887",
   "metadata": {},
   "outputs": [
    {
     "name": "stdout",
     "output_type": "stream",
     "text": [
      "[{'code': None, 'id': None, 'name': 'Porijõgi: Reola – Vana-Kuuste tee (Uhti)', 'description': None, 'adjustments': [], 'estimates': [{'parameter': 'tn', 'anthropogenicDischarge': 0, 'atmosphericDeposition': 0.13739853448970385, 'naturalDischarge': 149.76170562355773, 'retention': 81.11430933090568}, {'parameter': 'tp', 'anthropogenicDischarge': 0, 'atmosphericDeposition': 0.0025788030206979565, 'naturalDischarge': 4.890938517304428, 'retention': 2.5034817214681357}], 'type': None, 'area': 1.145825, 'drainedArea': 0.0528169794779904, 'harvestedArea': 0, 'claySoilArea': 0, 'fertileSoilArea': 0.7647821219831703, 'peatSoilArea': 0, 'scatteredPopulation': 0, 'configurations': [], 'fertilizers': []}, {'code': None, 'id': None, 'name': 'Porijõgi: Reola – Vana-Kuuste tee (Uhti)', 'description': None, 'adjustments': [], 'estimates': [{'parameter': 'tn', 'anthropogenicDischarge': 42731.630588040345, 'atmosphericDeposition': 14.332421164742346, 'naturalDischarge': 15622.057741145984, 'retention': 31584.456203186222}, {'parameter': 'tp', 'anthropogenicDischarge': 501.1084078286163, 'atmosphericDeposition': 0.26900207582870955, 'naturalDischarge': 510.1873246407913, 'retention': 517.507889978718}], 'type': 'arableland', 'area': 119.524175, 'drainedArea': 39.570581439382764, 'harvestedArea': 0, 'claySoilArea': 0, 'fertileSoilArea': 78.85625756524112, 'peatSoilArea': 0, 'scatteredPopulation': 0, 'configurations': [], 'fertilizers': [{'parameter': 'tn', 'type': 'organic', 'amount': 2.432497127157241}, {'parameter': 'tp', 'type': 'organic', 'amount': 0.5361911609010597}]}, {'code': None, 'id': None, 'name': 'Porijõgi: Reola – Vana-Kuuste tee (Uhti)', 'description': None, 'adjustments': [], 'estimates': [{'parameter': 'tn', 'anthropogenicDischarge': 0, 'atmosphericDeposition': 1.102500853767894, 'naturalDischarge': 1201.7042898232755, 'retention': 650.8700811275247}, {'parameter': 'tp', 'anthropogenicDischarge': 0, 'atmosphericDeposition': 0.02069259721421392, 'naturalDischarge': 39.2454250773576, 'retention': 20.08821087911798}], 'type': 'pasture', 'area': 9.194225, 'drainedArea': 4.722246391782348, 'harvestedArea': 0, 'claySoilArea': 0, 'fertileSoilArea': 5.8935752427021235, 'peatSoilArea': 0, 'scatteredPopulation': 0, 'configurations': [], 'fertilizers': [{'parameter': 'tn', 'type': 'organic', 'amount': 6.768899791625798}, {'parameter': 'tp', 'type': 'organic', 'amount': 1.2549392527383885}]}, {'code': None, 'id': None, 'name': 'Porijõgi: Reola – Vana-Kuuste tee (Uhti)', 'description': None, 'adjustments': [], 'estimates': [{'parameter': 'tn', 'anthropogenicDischarge': 0, 'atmosphericDeposition': 13.311040995705788, 'naturalDischarge': 14508.773405377067, 'retention': 7858.2781166632885}, {'parameter': 'tp', 'anthropogenicDischarge': 0, 'atmosphericDeposition': 0.24983201499090754, 'naturalDischarge': 473.8295306650037, 'retention': 242.53495825284529}], 'type': 'forest', 'area': 111.00645, 'drainedArea': 24.705178686040668, 'harvestedArea': 1.3028147403988033, 'claySoilArea': 0, 'fertileSoilArea': 58.441398203878684, 'peatSoilArea': 0, 'scatteredPopulation': 0, 'configurations': [], 'fertilizers': []}, {'code': None, 'id': None, 'name': 'Porijõgi: Reola – Vana-Kuuste tee (Uhti)', 'description': None, 'adjustments': [], 'estimates': [{'parameter': 'tn', 'anthropogenicDischarge': 0, 'atmosphericDeposition': 284.7417974155529, 'naturalDischarge': 0, 'retention': 154.08120258444708}, {'parameter': 'tp', 'anthropogenicDischarge': 0, 'atmosphericDeposition': 5.344256472758948, 'naturalDischarge': 0, 'retention': 2.7340760272410525}], 'type': 'water', 'area': 0.997325, 'drainedArea': 0, 'harvestedArea': 0, 'claySoilArea': 0, 'fertileSoilArea': 0.05988678634852892, 'peatSoilArea': 0, 'scatteredPopulation': 0, 'configurations': [], 'fertilizers': []}]\n"
     ]
    }
   ],
   "source": [
    "get_diffuse_sources(data, station_code)"
   ]
  }
 ],
 "metadata": {
  "kernelspec": {
   "display_name": "estmodel_test",
   "language": "python",
   "name": "estmodel_test"
  },
  "language_info": {
   "codemirror_mode": {
    "name": "ipython",
    "version": 3
   },
   "file_extension": ".py",
   "mimetype": "text/x-python",
   "name": "python",
   "nbconvert_exporter": "python",
   "pygments_lexer": "ipython3",
   "version": "3.9.7"
  }
 },
 "nbformat": 4,
 "nbformat_minor": 5
}
